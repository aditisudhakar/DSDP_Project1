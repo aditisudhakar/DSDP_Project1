{
 "cells": [
  {
   "cell_type": "markdown",
   "metadata": {},
   "source": [
    "# Travel and Tourism Reform Project"
   ]
  },
  {
   "cell_type": "markdown",
   "metadata": {},
   "source": [
    "### Documentation\n",
    "\n",
    "**Dataframes:** \n",
    "- df_qcontcust_2009_2019 -> contains data on all years between 2009 - 2019\n",
    "- df_qcontcust_2009, df_qcontcust_2010, ... to df_qcontcust_2019 -> filtered from df_qcontcust_2009_2019 for each year\n",
    "- df_qcontcust_2022 -> contains data for 2022 \n",
    "\n",
    "**Dictionaries:**\n",
    "- flow_dict -> contains flow codes (arrival/departure, foreign/UK) for all years\n",
    "- Purpose_value_map_0919 -> Purpose of visit mapping for the years 2009 to 2019\n",
    "- Purpose_value_map_22 -> Purpose of visit mapping for 2022\n",
    "- Nationality_value_map_0919 -> mapping for Nationality of respondent - NEW CODES (2009-2019)\n",
    "- Nationality_value_map_22 -> mapping for Nationality of respondent - NEW CODES (2022)\n",
    "\n",
    "**New variables created:**\n",
    "\n",
    "***\n"
   ]
  },
  {
   "cell_type": "markdown",
   "metadata": {},
   "source": [
    "## Importing Packages"
   ]
  },
  {
   "cell_type": "code",
   "execution_count": 1,
   "metadata": {},
   "outputs": [],
   "source": [
    "\n",
    "import numpy as np\n",
    "import pandas as pd\n",
    "\n",
    "import matplotlib.pyplot as plt\n",
    "import seaborn as sns\n",
    "import plotly.express as px\n",
    "import json\n",
    "\n",
    "import statsmodels.api as sm\n",
    "from statsmodels.sandbox.stats.multicomp import multipletests\n",
    "\n",
    "import scipy.stats as ss\n",
    "from scipy.stats import kruskal\n",
    "from scipy.stats import mannwhitneyu\n",
    "from scipy.stats import chi2_contingency\n",
    "\n",
    "from sklearn.model_selection import train_test_split\n",
    "from sklearn.linear_model import LogisticRegression\n",
    "from sklearn.linear_model import LinearRegression\n",
    "from sklearn import metrics\n",
    "from sklearn.metrics import classification_report, confusion_matrix, multilabel_confusion_matrix\n",
    "from sklearn.preprocessing import LabelEncoder, OneHotEncoder\n",
    "from sklearn.utils.class_weight import compute_class_weight\n",
    "from scikit_posthocs import posthoc_dunn\n",
    "\n",
    "from itertools import product\n",
    "\n",
    "from imblearn.over_sampling import RandomOverSampler\n",
    "\n",
    "from tabulate import tabulate\n",
    "\n",
    "import warnings\n",
    "warnings.filterwarnings(\"ignore\")"
   ]
  },
  {
   "cell_type": "markdown",
   "metadata": {},
   "source": [
    "## Loading Data"
   ]
  },
  {
   "cell_type": "code",
   "execution_count": 2,
   "metadata": {},
   "outputs": [],
   "source": [
    "df_qcontcust_2009_2019 = pd.read_csv(\"C:\\\\Users\\\\medasud\\\\Downloads\\\\2013-UKDA-7380-tab\\\\tab\\\\qcontcust_2009_2019.tab\", delimiter='\\t')\n",
    "#filtering the dataset into different years\n",
    "df_qcontcust_2009 = df_qcontcust_2009_2019[df_qcontcust_2009_2019['Year'] == 2009]\n",
    "df_qcontcust_2010 = df_qcontcust_2009_2019[df_qcontcust_2009_2019['Year'] == 2010]\n",
    "df_qcontcust_2011 = df_qcontcust_2009_2019[df_qcontcust_2009_2019['Year'] == 2011]\n",
    "df_qcontcust_2012 = df_qcontcust_2009_2019[df_qcontcust_2009_2019['Year'] == 2012]\n",
    "df_qcontcust_2013 = df_qcontcust_2009_2019[df_qcontcust_2009_2019['Year'] == 2013]\n",
    "df_qcontcust_2014 = df_qcontcust_2009_2019[df_qcontcust_2009_2019['Year'] == 2014]\n",
    "df_qcontcust_2015 = df_qcontcust_2009_2019[df_qcontcust_2009_2019['Year'] == 2015]\n",
    "df_qcontcust_2016 = df_qcontcust_2009_2019[df_qcontcust_2009_2019['Year'] == 2016]\n",
    "df_qcontcust_2017 = df_qcontcust_2009_2019[df_qcontcust_2009_2019['Year'] == 2017]\n",
    "df_qcontcust_2018 = df_qcontcust_2009_2019[df_qcontcust_2009_2019['Year'] == 2018]\n",
    "df_qcontcust_2019 = df_qcontcust_2009_2019[df_qcontcust_2009_2019['Year'] == 2019]\n",
    "df_qcontcust_2022 = pd.read_csv(\"C:\\\\Users\\\\medasud\\\\Downloads\\\\2022-UKDA-9122-tab\\\\tab\\\\qcontcust2022.tab\", delimiter='\\t')\n",
    "\n",
    "\n",
    "df_qreg_2013 = pd.read_csv(\"C:\\\\Users\\\\medasud\\\\Downloads\\\\2013-UKDA-7380-tab\\\\tab\\\\qreg_2013.tab\", delimiter='\\t')\n",
    "df_qreg_2014 = pd.read_csv(\"C:\\\\Users\\\\medasud\\\\Downloads\\\\2014-UKDA-7534-tab\\\\tab\\\\qreg_2014.tab\", delimiter='\\t')\n",
    "df_qreg_2015 = pd.read_csv(\"C:\\\\Users\\\\medasud\\\\Downloads\\\\2015-UKDA-7754-tab\\\\tab\\\\qreg_2015.tab\", delimiter='\\t')\n",
    "df_qreg_2016 = pd.read_csv(\"C:\\\\Users\\\\medasud\\\\Downloads\\\\2016-UKDA-8016-tab\\\\tab\\\\qreg_2016.tab\", delimiter='\\t')\n",
    "df_qreg_2017 = pd.read_csv(\"C:\\\\Users\\\\medasud\\\\Downloads\\\\2017-UKDA-8286-tab\\\\tab\\\\qreg_2017.tab\", delimiter='\\t')\n",
    "df_qreg_2018 = pd.read_csv(\"C:\\\\Users\\\\medasud\\\\Downloads\\\\2018-UKDA-8468-tab\\\\tab\\\\qreg_2018.tab\", delimiter='\\t')\n",
    "df_qreg_2019 = pd.read_csv(\"C:\\\\Users\\\\medasud\\\\Downloads\\\\2019-UKDA-8575-tab\\\\tab\\\\qreg_2019.tab\", delimiter='\\t')\n",
    "df_qreg_2022 = pd.read_csv(\"C:\\\\Users\\\\medasud\\\\Downloads\\\\2022-UKDA-9122-tab\\\\tab\\\\qreg_2022.tab\", delimiter='\\t')\n",
    "#qreg is not available for 2009-2012\n"
   ]
  },
  {
   "cell_type": "markdown",
   "metadata": {},
   "source": [
    "## Creating New Variables from Mappings"
   ]
  },
  {
   "cell_type": "code",
   "execution_count": 22,
   "metadata": {},
   "outputs": [],
   "source": [
    "#dictionary for flow\n",
    "flow_dict = {\n",
    "    1.0: \"Air Departure Foreign\",\n",
    "    2.0: \"Air Departure UK\",\n",
    "    3.0: \"Air Arrival Foreign\",\n",
    "    4.0: \"Air Arrival UK\",\n",
    "    5.0: \"Sea Departure Foreign\",\n",
    "    6.0: \"Sea Departure UK\",\n",
    "    7.0: \"Sea Arrival Foreign\",\n",
    "    8.0: \"Sea Arrival UK\"\n",
    "}\n",
    "\n",
    "#function to create Flow_Label column for all years\n",
    "\n",
    "def create_flow_label_column(df):\n",
    "    \"\"\"\n",
    "    This function creates a new column FLow_Label which is derived from the column Flow\n",
    "    and an external data dictionary mapping the integer/float values in Flow to their respective \n",
    "    values. This is for all years.\n",
    "\n",
    "    Parameters:\n",
    "    param1 : the dataframe being manipulated\n",
    " \n",
    "    Returns:\n",
    "    int: no return value. When the function is called, the new column is created.\n",
    "    \"\"\"\n",
    "    #fill missing values in Purpose column with -1\n",
    "    df['Flow'].replace(' ', np.nan, inplace=True)\n",
    "    df['Flow'].fillna(-1, inplace=True)\n",
    "    df['Flow'] = df['Flow'].astype(float)\n",
    "    df['Flow'].replace('-1', np.nan, inplace=True)\n",
    "    \n",
    "    df['Flow_Label'] = df['Flow'].map(flow_dict)\n",
    "\n",
    "#call this function for df_qcontcust of each year\n",
    "dataframes = [df_qcontcust_2009, df_qcontcust_2010, df_qcontcust_2011, df_qcontcust_2012,\n",
    "              df_qcontcust_2013, df_qcontcust_2014, df_qcontcust_2015, df_qcontcust_2016,\n",
    "              df_qcontcust_2017, df_qcontcust_2018, df_qcontcust_2019, df_qcontcust_2022]\n",
    "\n",
    "#iterate over the list of dataframes and apply the function\n",
    "for df in dataframes:\n",
    "    create_flow_label_column(df)"
   ]
  },
  {
   "cell_type": "code",
   "execution_count": 40,
   "metadata": {},
   "outputs": [
    {
     "data": {
      "text/plain": [
       "Flow_Label\n",
       "Air Departure UK         103740\n",
       "Air Arrival UK            55851\n",
       "Air Arrival Foreign       54274\n",
       "Air Departure Foreign     41071\n",
       "Sea Departure UK          13884\n",
       "Sea Arrival Foreign       11296\n",
       "Sea Arrival UK             9825\n",
       "Sea Departure Foreign      9146\n",
       "Name: count, dtype: int64"
      ]
     },
     "execution_count": 40,
     "metadata": {},
     "output_type": "execute_result"
    }
   ],
   "source": [
    "df_qcontcust_2015['Flow_Label'].value_counts()"
   ]
  },
  {
   "cell_type": "code",
   "execution_count": 23,
   "metadata": {},
   "outputs": [],
   "source": [
    "#create new column Purpose_Label for years 2009-19\n",
    "\n",
    "#load the mapping from the JSON file\n",
    "file_path = \"C:\\\\Users\\\\medasud\\\\Documents\\\\Project1\\\\Purpose_value_map_0919.json\"\n",
    "with open(file_path, 'r') as json_file:\n",
    "    purpose_mapping_0919 = json.load(json_file)\n",
    "\n",
    "#function to create Purpose_Label column\n",
    "def create_purpose_column_0919(df, mapping):\n",
    "    \"\"\"\n",
    "    This function creates a new column Purpose_Label which is derived from the column Purpose\n",
    "    and an external data dictionary mapping the integer/float values in Purpose to their respective \n",
    "    purposes. This is for the years 2009-2019 only.\n",
    "\n",
    "    Parameters:\n",
    "    param1 : the dataframe being manipulated\n",
    "    param2 : the mapping from the json file\n",
    "\n",
    "    Returns:\n",
    "    int: no return value. When the function is called, the new column is created.\n",
    "    \"\"\"\n",
    "    df['Purpose'].replace(' ', pd.NA, inplace=True)\n",
    "    df['Purpose'].fillna(-1, inplace=True)\n",
    "    df['Purpose'] = df['Purpose'].astype(float)\n",
    "    df['Purpose'] = df['Purpose'].astype(str)\n",
    "    \n",
    "    # Create a new column \"Purpose_Label\" by mapping the values\n",
    "    df['Purpose_Label'] = df['Purpose'].map(mapping)\n",
    "    df['Purpose'] = df['Purpose'].astype(float)\n",
    "    \n",
    "#call this function for df_qcontcust of each year\n",
    "dataframes = [df_qcontcust_2009, df_qcontcust_2010, df_qcontcust_2011, df_qcontcust_2012,\n",
    "              df_qcontcust_2013, df_qcontcust_2014, df_qcontcust_2015, df_qcontcust_2016,\n",
    "              df_qcontcust_2017, df_qcontcust_2018, df_qcontcust_2019]\n",
    "\n",
    "#iterate over the list of dataframes and apply the function\n",
    "for df in dataframes:\n",
    "    create_purpose_column_0919(df, purpose_mapping_0919)\n"
   ]
  },
  {
   "cell_type": "code",
   "execution_count": 24,
   "metadata": {},
   "outputs": [],
   "source": [
    "#create new column Purpose_Label for years 2022\n",
    "\n",
    "#load the mapping from the JSON file\n",
    "file_path = \"C:\\\\Users\\\\medasud\\\\Documents\\\\Project1\\\\Purpose_value_map_22.json\"\n",
    "with open(file_path, 'r') as json_file:\n",
    "    purpose_mapping_22 = json.load(json_file)\n",
    "    \n",
    "#function to create Purpose_Label column\n",
    "def create_purpose_column_22(df, mapping):\n",
    "    \"\"\"\n",
    "    This function creates a new column Purpose_Label which is derived from the column Purpose\n",
    "    and an external data dictionary mapping the integer/float values in Purpose to their respective \n",
    "    purposes. This is for the years 2022 only as the Purpose codes are different for this year.\n",
    "    Purpose codes for subsequent years are likely to remain the same, and in that case, this function\n",
    "    can be reused.\n",
    "\n",
    "    Parameters:\n",
    "    param1 : the dataframe being manipulated\n",
    "    param2 : the mapping from the json file\n",
    "\n",
    "    Returns:\n",
    "    int: no return value. When the function is called, the new column is created.\n",
    "    \"\"\"\n",
    "    \n",
    "    df['Purpose'].replace(' ', pd.NA, inplace=True)\n",
    "    df['Purpose'].fillna(-1, inplace=True)\n",
    "    df['Purpose'] = df['Purpose'].astype(float)\n",
    "    df['Purpose'] = df['Purpose'].astype(str)\n",
    "    \n",
    "    # Create a new column \"Purpose_Label\" by mapping the values\n",
    "    df['Purpose_Label'] = df['Purpose'].map(mapping)\n",
    "    df['Purpose'] = df['Purpose'].astype(float)\n",
    "    \n",
    "#call the function\n",
    "create_purpose_column_22(df_qcontcust_2022, purpose_mapping_22)\n"
   ]
  },
  {
   "cell_type": "code",
   "execution_count": 27,
   "metadata": {},
   "outputs": [
    {
     "data": {
      "text/plain": [
       "Purpose_Label\n",
       "Holiday/pleasure                                               51586\n",
       "Visit family (priority)                                        29972\n",
       "Business; Work                                                 11315\n",
       "Visit friends                                                   4723\n",
       "Same day transit                                                2970\n",
       "Overnight transit                                               1372\n",
       "OTHER                                                           1098\n",
       "Watch sport                                                     1043\n",
       "Play amateur sport                                               645\n",
       "Definite job to go to                                            528\n",
       "Medical Treatment                                                476\n",
       "Cruise 0-2 nights ashore - For                                   242\n",
       "International commuter                                           216\n",
       "Military or embassy (serving on duty)                            178\n",
       "First or Foundation Degree                                       177\n",
       "Higher or Postgraduate Degree                                    160\n",
       "Accompany another traveller                                      149\n",
       "Cruise 0-2 nights ashore - UK                                    128\n",
       "Merchant navy (joining or leaving ship)                          119\n",
       "Getting married                                                  114\n",
       "English language course (not degree level)                       104\n",
       "Airline crew (positioning)                                        91\n",
       "Personal shopping                                                 87\n",
       "Embassy Personel                                                  81\n",
       "Formal Course                                                     53\n",
       "Joining another traveller                                         33\n",
       "Professional qualification                                        29\n",
       "Secondary education                                               26\n",
       "Looking for work                                                  19\n",
       "Other Course Below Degree Level & Above Secondary Education       16\n",
       "Au Pair                                                            8\n",
       "Unacc schoolchild (16 or under, school to parents)                 4\n",
       "Name: count, dtype: int64"
      ]
     },
     "execution_count": 27,
     "metadata": {},
     "output_type": "execute_result"
    }
   ],
   "source": [
    "df_qcontcust_2022['Purpose_Label'].value_counts()"
   ]
  },
  {
   "cell_type": "code",
   "execution_count": 29,
   "metadata": {},
   "outputs": [
    {
     "data": {
      "text/plain": [
       "Purpose_Label\n",
       "Holiday/pleasure                                      50472\n",
       "Visit family (priority)                               22423\n",
       "Business; Work                                        18709\n",
       "Visit friends                                          4677\n",
       "Same day transit                                       3180\n",
       "Overnight transit                                      1331\n",
       "Play amateur sport                                     1157\n",
       "OTHER                                                  1151\n",
       "Watch sport                                            1060\n",
       "Personal shopping                                       743\n",
       "Other formal study                                      654\n",
       "Cruise 0-2 nights ashore - For                          408\n",
       "Definite job to go to                                   345\n",
       "Accompany / join                                        242\n",
       "Medical treatment                                       211\n",
       "Cruise 0-2 nights ashore - UK                           209\n",
       "Military (serving on duty)                              203\n",
       "Looking for work                                        145\n",
       "Merchant navy (joining or leaving ship)                 120\n",
       "Getting married                                         116\n",
       "International commuter                                  102\n",
       "Airline crew (positioning)                               68\n",
       "Au Pair                                                  18\n",
       "Unacc schoolchild (16 or under, school to parents)       17\n",
       "Conference 20+ people                                     5\n",
       "Visit trade fair                                          5\n",
       "Immigrating/Emigrating                                    2\n",
       "Name: count, dtype: int64"
      ]
     },
     "execution_count": 29,
     "metadata": {},
     "output_type": "execute_result"
    }
   ],
   "source": [
    "df_qcontcust_2013['Purpose_Label'].value_counts()"
   ]
  },
  {
   "cell_type": "code",
   "execution_count": 36,
   "metadata": {},
   "outputs": [],
   "source": [
    "#create new column Nationality_Label for years 2009-19\n",
    "\n",
    "#load the mapping from the JSON file\n",
    "file_path = \"C:\\\\Users\\\\medasud\\\\Documents\\\\Project1\\\\Nationality_value_map_0919.json\"\n",
    "with open(file_path, 'r') as json_file:\n",
    "    nationality_mapping_0919 = json.load(json_file)\n",
    "\n",
    "#function to create Nationality_Label column for 2009-2019\n",
    "def create_nationality_label_column_0919(df):\n",
    "    \"\"\"\n",
    "    This function creates a new column Nationality_Label which is derived from the column Nationality\n",
    "    and an external data dictionary mapping the integer/float values in Nationality to their respective \n",
    "    purposes. This is for the years 2009-2019 only.\n",
    "\n",
    "    Parameters:\n",
    "    param1 : the dataframe being manipulated.\n",
    "\n",
    "    Returns:\n",
    "    int: no return value. When the function is called, the new column is created.\n",
    "    \"\"\"\n",
    "    df['Nationality'].replace(' ', np.nan, inplace=True)\n",
    "    df['Nationality'].fillna(-1, inplace=True)\n",
    "    #changing to the datatype to str to facilitate mapping as the JSON file has the key as type string by default\n",
    "    df['Nationality'] = df['Nationality'].astype(str)\n",
    "    \n",
    "    #create a new column Nationality_Label by mapping the values\n",
    "    df['Nationality_Label'] = df['Nationality'].map(nationality_mapping_0919)\n",
    "    df['Nationality_Label'].fillna((\"Unknown\"), inplace=True)\n",
    "    df['Nationality'] = df['Nationality'].astype(float) \n",
    "\n",
    "#call this function for df_qcontcust of each year\n",
    "dataframes = [df_qcontcust_2009, df_qcontcust_2010, df_qcontcust_2011, df_qcontcust_2012,\n",
    "              df_qcontcust_2013, df_qcontcust_2014, df_qcontcust_2015, df_qcontcust_2016,\n",
    "              df_qcontcust_2017, df_qcontcust_2018, df_qcontcust_2019]\n",
    "\n",
    "#iterate over the list of dataframes and apply the function for 2009-2019\n",
    "for df in dataframes:\n",
    "    create_nationality_label_column_0919(df)\n"
   ]
  },
  {
   "cell_type": "code",
   "execution_count": 38,
   "metadata": {},
   "outputs": [],
   "source": [
    "#create new column Nationality_Label for years 2022 onwards\n",
    "\n",
    "#load the mapping from the JSON file\n",
    "file_path = \"C:\\\\Users\\\\medasud\\\\Documents\\\\Project1\\\\Nationality_value_map_22.json\"\n",
    "with open(file_path, 'r') as json_file:\n",
    "    nationality_mapping_22 = json.load(json_file)\n",
    "    \n",
    "#function to create Nationality_Label column for 2022 onwards\n",
    "def create_nationality_label_column_22(df):\n",
    "    \"\"\"\n",
    "    This function creates a new column Nationality_Label which is derived from the column Nationality\n",
    "    and an external data dictionary mapping the integer/float values in Nationality to their respective \n",
    "    purposes for the year 2022 and onwards.\n",
    "    \n",
    "    Parameters:\n",
    "    param1 : the dataframe being manipulated.\n",
    "\n",
    "    Returns:\n",
    "    int: no return value. When the function is called, the new column is created.\n",
    "    \"\"\"\n",
    "    df['Nationality'].replace(' ', np.nan, inplace=True)\n",
    "    df['Nationality'].fillna(-1, inplace=True)\n",
    "    #changing to the datatype to str to facilitate mapping as the JSON file has the key as type string by default\n",
    "    df['Nationality'] = df['Nationality'].astype(str)\n",
    "    \n",
    "    #create a new column Nationality_Label by mapping the values\n",
    "    df['Nationality_Label'] = df['Nationality'].map(nationality_mapping_22)\n",
    "    df['Nationality_Label'].fillna((\"Unknown\"), inplace=True)\n",
    "    df['Nationality'] = df['Nationality'].astype(float) \n",
    "\n",
    "#call this function for df_qcontcust_2022\n",
    "for df in dataframes:\n",
    "    create_nationality_label_column_22(df_qcontcust_2022)\n"
   ]
  },
  {
   "cell_type": "code",
   "execution_count": 39,
   "metadata": {},
   "outputs": [
    {
     "data": {
      "text/plain": [
       "Nationality_Label\n",
       "UK                      157672\n",
       "USA                      17817\n",
       "Irish Republic            9862\n",
       "France/Corsica            8407\n",
       "Poland                    7766\n",
       "                         ...  \n",
       "Papua New Guinea             1\n",
       "Surinam/Dutch Guiana         1\n",
       "Gabon                        1\n",
       "Bhutan                       1\n",
       "Burkina Faso                 1\n",
       "Name: count, Length: 211, dtype: int64"
      ]
     },
     "execution_count": 39,
     "metadata": {},
     "output_type": "execute_result"
    }
   ],
   "source": [
    "df_qcontcust_2022['Nationality_Label'].value_counts()"
   ]
  },
  {
   "cell_type": "code",
   "execution_count": 37,
   "metadata": {},
   "outputs": [
    {
     "data": {
      "text/plain": [
       "Nationality_Label\n",
       "UK/United Kingdom               137118\n",
       "USA/United States of America     14062\n",
       "France                            8991\n",
       "Poland                            8421\n",
       "Germany                           7605\n",
       "                                 ...  \n",
       "Korea, North                         1\n",
       "San Marino                           1\n",
       "Lesotho                              1\n",
       "Guinea - Bissau                      1\n",
       "Cape Verde Islands                   1\n",
       "Name: count, Length: 198, dtype: int64"
      ]
     },
     "execution_count": 37,
     "metadata": {},
     "output_type": "execute_result"
    }
   ],
   "source": [
    "df_qcontcust_2017['Nationality_Label'].value_counts()"
   ]
  },
  {
   "cell_type": "code",
   "execution_count": 46,
   "metadata": {},
   "outputs": [],
   "source": [
    "#function to create Stay_Category\n",
    "\n",
    "def create_stay_category_column(df):\n",
    "    \"\"\"\n",
    "    This function creates a new column Stay_Category which is derived from the column Stay, a numeric continuous variable.\n",
    "    The Stay_Category column is used to convert Stay into factor levels that can later be used for model training purposes,\n",
    "    as most of the variables in this dataset are also categorical.\n",
    "\n",
    "    Parameters:\n",
    "    param1 : the dataframe being manipulated.\n",
    "\n",
    "    Returns:\n",
    "    int: no return value. When the function is called, the new column is created.\n",
    "    \"\"\"\n",
    "    \n",
    "    #the variable names are different across the dataframes so we accomodate this\n",
    "    stay_column_name = next((col for col in ['Stay', 'stay'] if col in df.columns), None)\n",
    "    if stay_column_name is not None:\n",
    "        df[stay_column_name].replace(' ', np.nan, inplace=True)\n",
    "        df[stay_column_name] = pd.to_numeric(df[stay_column_name], errors='coerce')\n",
    "    \n",
    "    #we only want to consider stays for less than a year\n",
    "    #removing outliers in Stay duration, only retaining stays that are less than a year\n",
    "    df[stay_column_name] = df[stay_column_name].astype(float)\n",
    "    df[stay_column_name] = df[stay_column_name][df[stay_column_name] <= 365]\n",
    "    intervals = [1, 3, 13, 27, 90, 180, 365]\n",
    "    labels = ['1-3 days', '4-13 days', '14-27 days', '1-3 months', '3-6 months', '6-12 months']\n",
    "    df['Stay_Category'] = pd.cut(df[stay_column_name], bins=intervals, labels=labels)\n",
    "    \n",
    "#call this function for df_qcontcust of each year\n",
    "dataframes = [df_qcontcust_2009, df_qcontcust_2010, df_qcontcust_2011, df_qcontcust_2012,\n",
    "              df_qcontcust_2013, df_qcontcust_2014, df_qcontcust_2015, df_qcontcust_2016,\n",
    "              df_qcontcust_2017, df_qcontcust_2018, df_qcontcust_2019, df_qcontcust_2022]\n",
    "\n",
    "#iterate over the list of dataframes and apply the function for all years\n",
    "for df in dataframes:\n",
    "    create_stay_category_column(df)\n"
   ]
  },
  {
   "cell_type": "code",
   "execution_count": 47,
   "metadata": {},
   "outputs": [],
   "source": [
    "#function to create Spend_Category\n",
    "\n",
    "def create_spend_category_column(df):\n",
    "    \"\"\"\n",
    "    This function creates a new column Spend_Category which is derived from the column Spend, a numeric continuous variable.\n",
    "    The Spend_Category column is used to convert Spend into factor levels that can later be used for model training purposes,\n",
    "    as most of the variables in this dataset are also categorical.\n",
    "\n",
    "    Parameters:\n",
    "    param1 : the dataframe being manipulated.\n",
    "\n",
    "    Returns:\n",
    "    int: no return value. When the function is called, the new column is created.\n",
    "    \"\"\"\n",
    "    #the variable names are different across the dataframes so we accommodate this\n",
    "    spend_column_name = next((col for col in ['Spend', 'spend'] if col in df.columns), None)\n",
    "    if spend_column_name is not None:\n",
    "        df[spend_column_name].replace(' ', np.nan, inplace=True)\n",
    "        df[spend_column_name] = pd.to_numeric(df[spend_column_name], errors='coerce')\n",
    "\n",
    "        #we only want to consider expenditure less than 10k as more than that would be outliers\n",
    "        df[spend_column_name] = df[spend_column_name].astype(float)\n",
    "        df[spend_column_name] = df[spend_column_name][df[spend_column_name] <= 10000]\n",
    "\n",
    "        intervals = [0, 250, 500, 1000, 5000, float('inf')]\n",
    "        labels = ['0-250 GBP', '250-500 GBP', '500-1000 GBP', '1000-5000 GBP', 'more than 5000 GBP']\n",
    "        df['Spend_Category'] = pd.cut(df[spend_column_name], bins=intervals, labels=labels)\n",
    "\n",
    "#call this function for df_qcontcust of each year\n",
    "dataframes = [df_qcontcust_2009, df_qcontcust_2010, df_qcontcust_2011, df_qcontcust_2012,\n",
    "              df_qcontcust_2013, df_qcontcust_2014, df_qcontcust_2015, df_qcontcust_2016,\n",
    "              df_qcontcust_2017, df_qcontcust_2018, df_qcontcust_2019, df_qcontcust_2022]\n",
    "\n",
    "#iterate over the list of dataframes and apply the function for all years\n",
    "for df in dataframes:\n",
    "    create_spend_category_column(df)\n"
   ]
  },
  {
   "cell_type": "code",
   "execution_count": 44,
   "metadata": {},
   "outputs": [
    {
     "data": {
      "text/plain": [
       "Stay_Category\n",
       "4-13 days      48027\n",
       "1-3 days       22130\n",
       "14-27 days     13932\n",
       "1-3 months      4589\n",
       "3-6 months       677\n",
       "6-12 months      223\n",
       "Name: count, dtype: int64"
      ]
     },
     "execution_count": 44,
     "metadata": {},
     "output_type": "execute_result"
    }
   ],
   "source": [
    "df_qcontcust_2016['Stay_Category'].value_counts()"
   ]
  },
  {
   "cell_type": "code",
   "execution_count": 45,
   "metadata": {},
   "outputs": [
    {
     "data": {
      "text/plain": [
       "Spend_Category\n",
       "0-250 GBP             21868\n",
       "250-500 GBP           17910\n",
       "500-1000 GBP          16606\n",
       "1000-5000 GBP         11576\n",
       "more than 5000 GBP      480\n",
       "Name: count, dtype: int64"
      ]
     },
     "execution_count": 45,
     "metadata": {},
     "output_type": "execute_result"
    }
   ],
   "source": [
    "df_qcontcust_2018['Spend_Category'].value_counts()"
   ]
  },
  {
   "cell_type": "code",
   "execution_count": 30,
   "metadata": {},
   "outputs": [],
   "source": [
    "#purposes of visit that we are not interested in for years\n",
    "excluded_purposes = [\"International commuter\", \"Immigrating/Emigrating\", \"Overnight transit\", \"Asylum Seeker\",\n",
    "                     \"Same day transit\", \"Military (serving on duty)\", \"Returning Home To Live\", \n",
    "                     \"Merchant navy (joining or leaving ship)\", \"Military or embassy (serving on duty)\",\n",
    "                     \"Airline crew (positioning)\", \"Coding query\", \"Looking for work\"]\n"
   ]
  },
  {
   "cell_type": "code",
   "execution_count": null,
   "metadata": {},
   "outputs": [],
   "source": [
    "\n",
    "df_qcontcust_2022['Age'].replace(' ', -1, inplace=True)\n",
    "df_qcontcust_2022['Age'].replace(np.nan, -1, inplace=True)\n",
    "df_qcontcust_2022['Sex'].replace(' ', np.nan, inplace=True)\n",
    "\n",
    "df_qcontcust_2022['Residence'].replace(' ', np.nan, inplace=True)\n"
   ]
  }
 ],
 "metadata": {
  "kernelspec": {
   "display_name": "base",
   "language": "python",
   "name": "python3"
  },
  "language_info": {
   "codemirror_mode": {
    "name": "ipython",
    "version": 3
   },
   "file_extension": ".py",
   "mimetype": "text/x-python",
   "name": "python",
   "nbconvert_exporter": "python",
   "pygments_lexer": "ipython3",
   "version": "3.11.5"
  }
 },
 "nbformat": 4,
 "nbformat_minor": 2
}
