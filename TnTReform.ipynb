{
 "cells": [
  {
   "cell_type": "markdown",
   "metadata": {},
   "source": [
    "# Travel and Tourism Reform Project"
   ]
  },
  {
   "cell_type": "markdown",
   "metadata": {},
   "source": [
    "### Documentation\n",
    "\n",
    "**Dataframes:** \n",
    "- df_qcontcust_2009_2019 -> contains data on all years between 2009 - 2019\n",
    "- df_qcontcust_2009, df_qcontcust_2010, ... to df_qcontcust_2019 -> filtered from df_qcontcust_2009_2019 for each year\n",
    "- df_qcontcust_2022 -> contains data for 2022 \n",
    "\n",
    "**Dictionaries:**\n",
    "- flow_dict -> contains flow codes (arrival/departure, foreign/UK) for all years\n",
    "- Purpose_value_map_0919 -> Purpose of visit mapping for the years 2009 to 2019\n",
    "- Purpose_value_map_22 -> Purpose of visit mapping for 2022\n",
    "- Nationality_value_map_0919 -> mapping for Nationality of respondent - NEW CODES (2009-2019)\n",
    "- Nationality_value_map_22 -> mapping for Nationality of respondent - NEW CODES (2022)\n",
    "\n",
    "**New variables created:**\n",
    "\n",
    "***\n"
   ]
  },
  {
   "cell_type": "markdown",
   "metadata": {},
   "source": [
    "Importing Packages"
   ]
  },
  {
   "cell_type": "code",
   "execution_count": 2,
   "metadata": {},
   "outputs": [],
   "source": [
    "import numpy as np\n",
    "import pandas as pd\n",
    "\n",
    "import matplotlib.pyplot as plt\n",
    "import seaborn as sns\n",
    "import plotly.express as px\n",
    "\n",
    "import statsmodels.api as sm\n",
    "from statsmodels.sandbox.stats.multicomp import multipletests\n",
    "\n",
    "import scipy.stats as ss\n",
    "from scipy.stats import kruskal\n",
    "from scipy.stats import mannwhitneyu\n",
    "from scipy.stats import chi2_contingency\n",
    "\n",
    "from sklearn.model_selection import train_test_split\n",
    "from sklearn.linear_model import LogisticRegression\n",
    "from sklearn.linear_model import LinearRegression\n",
    "from sklearn import metrics\n",
    "from sklearn.metrics import classification_report, confusion_matrix, multilabel_confusion_matrix\n",
    "from sklearn.preprocessing import LabelEncoder, OneHotEncoder\n",
    "from sklearn.utils.class_weight import compute_class_weight\n",
    "from scikit_posthocs import posthoc_dunn\n",
    "\n",
    "from itertools import product\n",
    "\n",
    "from imblearn.over_sampling import RandomOverSampler\n",
    "\n",
    "from tabulate import tabulate"
   ]
  },
  {
   "cell_type": "markdown",
   "metadata": {},
   "source": [
    "Loading Data"
   ]
  },
  {
   "cell_type": "code",
   "execution_count": 3,
   "metadata": {},
   "outputs": [
    {
     "name": "stderr",
     "output_type": "stream",
     "text": [
      "C:\\Users\\medasud\\AppData\\Local\\Temp\\ipykernel_3032\\2846825453.py:1: DtypeWarning: Columns (2,13,14,15,29,32,48,53,55,56,57,58,62,63,64) have mixed types. Specify dtype option on import or set low_memory=False.\n",
      "  df_qcontcust_2009_2019 = pd.read_csv(\"C:\\\\Users\\\\medasud\\\\Downloads\\\\2013-UKDA-7380-tab\\\\tab\\\\qcontcust_2009_2019.tab\", delimiter='\\t')\n",
      "C:\\Users\\medasud\\AppData\\Local\\Temp\\ipykernel_3032\\2846825453.py:14: DtypeWarning: Columns (13,45,49,52,53,54,57,58,59,60) have mixed types. Specify dtype option on import or set low_memory=False.\n",
      "  df_qcontcust_2022 = pd.read_csv(\"C:\\\\Users\\\\medasud\\\\Downloads\\\\2022-UKDA-9122-tab\\\\tab\\\\qcontcust2022.tab\", delimiter='\\t')\n",
      "C:\\Users\\medasud\\AppData\\Local\\Temp\\ipykernel_3032\\2846825453.py:17: DtypeWarning: Columns (2) have mixed types. Specify dtype option on import or set low_memory=False.\n",
      "  df_qreg_2013 = pd.read_csv(\"C:\\\\Users\\\\medasud\\\\Downloads\\\\2013-UKDA-7380-tab\\\\tab\\\\qreg_2013.tab\", delimiter='\\t')\n",
      "C:\\Users\\medasud\\AppData\\Local\\Temp\\ipykernel_3032\\2846825453.py:18: DtypeWarning: Columns (2) have mixed types. Specify dtype option on import or set low_memory=False.\n",
      "  df_qreg_2014 = pd.read_csv(\"C:\\\\Users\\\\medasud\\\\Downloads\\\\2014-UKDA-7534-tab\\\\tab\\\\qreg_2014.tab\", delimiter='\\t')\n",
      "C:\\Users\\medasud\\AppData\\Local\\Temp\\ipykernel_3032\\2846825453.py:19: DtypeWarning: Columns (2) have mixed types. Specify dtype option on import or set low_memory=False.\n",
      "  df_qreg_2015 = pd.read_csv(\"C:\\\\Users\\\\medasud\\\\Downloads\\\\2015-UKDA-7754-tab\\\\tab\\\\qreg_2015.tab\", delimiter='\\t')\n",
      "C:\\Users\\medasud\\AppData\\Local\\Temp\\ipykernel_3032\\2846825453.py:21: DtypeWarning: Columns (2) have mixed types. Specify dtype option on import or set low_memory=False.\n",
      "  df_qreg_2017 = pd.read_csv(\"C:\\\\Users\\\\medasud\\\\Downloads\\\\2017-UKDA-8286-tab\\\\tab\\\\qreg_2017.tab\", delimiter='\\t')\n"
     ]
    }
   ],
   "source": [
    "df_qcontcust_2009_2019 = pd.read_csv(\"C:\\\\Users\\\\medasud\\\\Downloads\\\\2013-UKDA-7380-tab\\\\tab\\\\qcontcust_2009_2019.tab\", delimiter='\\t')\n",
    "#filtering the dataset into different years\n",
    "df_qcontcust_2009 = df_qcontcust_2009_2019[df_qcontcust_2009_2019['Year'] == 2009]\n",
    "df_qcontcust_2010 = df_qcontcust_2009_2019[df_qcontcust_2009_2019['Year'] == 2010]\n",
    "df_qcontcust_2011 = df_qcontcust_2009_2019[df_qcontcust_2009_2019['Year'] == 2011]\n",
    "df_qcontcust_2012 = df_qcontcust_2009_2019[df_qcontcust_2009_2019['Year'] == 2012]\n",
    "df_qcontcust_2013 = df_qcontcust_2009_2019[df_qcontcust_2009_2019['Year'] == 2013]\n",
    "df_qcontcust_2014 = df_qcontcust_2009_2019[df_qcontcust_2009_2019['Year'] == 2014]\n",
    "df_qcontcust_2015 = df_qcontcust_2009_2019[df_qcontcust_2009_2019['Year'] == 2015]\n",
    "df_qcontcust_2016 = df_qcontcust_2009_2019[df_qcontcust_2009_2019['Year'] == 2016]\n",
    "df_qcontcust_2017 = df_qcontcust_2009_2019[df_qcontcust_2009_2019['Year'] == 2017]\n",
    "df_qcontcust_2018 = df_qcontcust_2009_2019[df_qcontcust_2009_2019['Year'] == 2018]\n",
    "df_qcontcust_2019 = df_qcontcust_2009_2019[df_qcontcust_2009_2019['Year'] == 2019]\n",
    "df_qcontcust_2022 = pd.read_csv(\"C:\\\\Users\\\\medasud\\\\Downloads\\\\2022-UKDA-9122-tab\\\\tab\\\\qcontcust2022.tab\", delimiter='\\t')\n",
    "\n",
    "\n",
    "df_qreg_2013 = pd.read_csv(\"C:\\\\Users\\\\medasud\\\\Downloads\\\\2013-UKDA-7380-tab\\\\tab\\\\qreg_2013.tab\", delimiter='\\t')\n",
    "df_qreg_2014 = pd.read_csv(\"C:\\\\Users\\\\medasud\\\\Downloads\\\\2014-UKDA-7534-tab\\\\tab\\\\qreg_2014.tab\", delimiter='\\t')\n",
    "df_qreg_2015 = pd.read_csv(\"C:\\\\Users\\\\medasud\\\\Downloads\\\\2015-UKDA-7754-tab\\\\tab\\\\qreg_2015.tab\", delimiter='\\t')\n",
    "df_qreg_2016 = pd.read_csv(\"C:\\\\Users\\\\medasud\\\\Downloads\\\\2016-UKDA-8016-tab\\\\tab\\\\qreg_2016.tab\", delimiter='\\t')\n",
    "df_qreg_2017 = pd.read_csv(\"C:\\\\Users\\\\medasud\\\\Downloads\\\\2017-UKDA-8286-tab\\\\tab\\\\qreg_2017.tab\", delimiter='\\t')\n",
    "df_qreg_2018 = pd.read_csv(\"C:\\\\Users\\\\medasud\\\\Downloads\\\\2018-UKDA-8468-tab\\\\tab\\\\qreg_2018.tab\", delimiter='\\t')\n",
    "df_qreg_2019 = pd.read_csv(\"C:\\\\Users\\\\medasud\\\\Downloads\\\\2019-UKDA-8575-tab\\\\tab\\\\qreg_2019.tab\", delimiter='\\t')\n",
    "df_qreg_2022 = pd.read_csv(\"C:\\\\Users\\\\medasud\\\\Downloads\\\\2022-UKDA-9122-tab\\\\tab\\\\qreg_2022.tab\", delimiter='\\t')\n",
    "#qreg is not available for 2009-2012\n"
   ]
  },
  {
   "cell_type": "code",
   "execution_count": 4,
   "metadata": {},
   "outputs": [
    {
     "name": "stderr",
     "output_type": "stream",
     "text": [
      "C:\\Users\\medasud\\AppData\\Local\\Temp\\ipykernel_3032\\3144794670.py:11: SettingWithCopyWarning: \n",
      "A value is trying to be set on a copy of a slice from a DataFrame.\n",
      "Try using .loc[row_indexer,col_indexer] = value instead\n",
      "\n",
      "See the caveats in the documentation: https://pandas.pydata.org/pandas-docs/stable/user_guide/indexing.html#returning-a-view-versus-a-copy\n",
      "  df_qcontcust_2013['Flow_Label'] = df_qcontcust_2013['Flow'].replace(flow_dict)\n"
     ]
    }
   ],
   "source": [
    "flow_dict = {\n",
    "    1.0: \"Air Departure Foreign\",\n",
    "    2.0: \"Air Departure UK\",\n",
    "    3.0: \"Air Arrival Foreign\",\n",
    "    4.0: \"Air Arrival UK\",\n",
    "    5.0: \"Sea Departure Foreign\",\n",
    "    6.0: \"Sea Departure UK\",\n",
    "    7.0: \"Sea Arrival Foreign\",\n",
    "    8.0: \"Sea Arrival UK\"\n",
    "}\n",
    "#df_qcontcust_2013['Flow_Label'] = df_qcontcust_2013['Flow'].replace(flow_dict)"
   ]
  },
  {
   "cell_type": "code",
   "execution_count": null,
   "metadata": {},
   "outputs": [],
   "source": [
    "#function to create Flow_Label column for all years\n",
    "\n",
    "def create_purpose_column(df):\n",
    "    df['Purpose'].replace(' ', np.nan, inplace=True)\n",
    "    # Fill missing values in \"Purpose\" column with a default value, for example, -1\n",
    "    df['Purpose'].fillna(-1, inplace=True)\n",
    "    # Convert \"Purpose\" column to float\n",
    "    df['Purpose'] = df['Purpose'].astype(float)\n",
    "    df['Purpose'].replace('-1', np.nan, inplace=True)\n",
    "    \n",
    "    # Create a new column \"Purpose_Label\" by mapping the values\n",
    "    df['Purpose_Label'] = df['Purpose'].map(Purpose_value_map_0919)"
   ]
  }
 ],
 "metadata": {
  "kernelspec": {
   "display_name": "base",
   "language": "python",
   "name": "python3"
  },
  "language_info": {
   "codemirror_mode": {
    "name": "ipython",
    "version": 3
   },
   "file_extension": ".py",
   "mimetype": "text/x-python",
   "name": "python",
   "nbconvert_exporter": "python",
   "pygments_lexer": "ipython3",
   "version": "3.11.5"
  }
 },
 "nbformat": 4,
 "nbformat_minor": 2
}
