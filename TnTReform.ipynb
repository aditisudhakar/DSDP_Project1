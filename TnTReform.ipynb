{
 "cells": [
  {
   "cell_type": "markdown",
   "metadata": {},
   "source": [
    "# Travel and Tourism Reform Project"
   ]
  },
  {
   "cell_type": "markdown",
   "metadata": {},
   "source": [
    "### Documentation\n",
    "\n",
    "**Dataframes:** \n",
    "- df_qcontcust_2009_2019 -> all years data\n",
    "- df_qcontcust_2009 to df_qcontcust_2009_2022 -> filtered from df_qcontcust_2009_2019 for each year\n",
    "\n",
    "**Dictionaries**\n",
    "- flow_dict -> contains flow codes (arrival/departure, foreign/UK) for all years\n",
    "- Purpose_value_map_0919 -> Purpose of visit mapping for the years 2009 to 2019\n",
    "- Purpose_value_map_22 -> Purpose of visit mapping for 2022\n",
    "- Nationality_value_map_0919 -> mapping for Nationality of respondent - NEW CODES (2009-2019)\n",
    "- Nationality_value_map_22 -> mapping for Nationality of respondent - NEW CODES (2022)\n",
    "\n",
    "***\n"
   ]
  },
  {
   "cell_type": "markdown",
   "metadata": {},
   "source": [
    "Importing Packages"
   ]
  },
  {
   "cell_type": "code",
   "execution_count": 2,
   "metadata": {},
   "outputs": [],
   "source": [
    "import numpy as np\n",
    "import pandas as pd\n",
    "\n",
    "import matplotlib.pyplot as plt\n",
    "import seaborn as sns\n",
    "import plotly.express as px\n",
    "\n",
    "import statsmodels.api as sm\n",
    "from statsmodels.sandbox.stats.multicomp import multipletests\n",
    "\n",
    "import scipy.stats as ss\n",
    "from scipy.stats import kruskal\n",
    "from scipy.stats import mannwhitneyu\n",
    "from scipy.stats import chi2_contingency\n",
    "\n",
    "from sklearn.model_selection import train_test_split\n",
    "from sklearn.linear_model import LogisticRegression\n",
    "from sklearn.linear_model import LinearRegression\n",
    "from xgboost import XGBClassifier\n",
    "from sklearn import metrics\n",
    "from sklearn.metrics import classification_report, confusion_matrix, multilabel_confusion_matrix\n",
    "from sklearn.preprocessing import LabelEncoder, OneHotEncoder\n",
    "from sklearn.utils.class_weight import compute_class_weight\n",
    "from scikit_posthocs import posthoc_dunn\n",
    "\n",
    "from itertools import product\n",
    "\n",
    "from imblearn.over_sampling import RandomOverSampler\n",
    "\n",
    "from tabulate import tabulate"
   ]
  },
  {
   "cell_type": "markdown",
   "metadata": {},
   "source": [
    "Loading Data"
   ]
  },
  {
   "cell_type": "code",
   "execution_count": 3,
   "metadata": {},
   "outputs": [
    {
     "name": "stderr",
     "output_type": "stream",
     "text": [
      "C:\\Users\\medasud\\AppData\\Local\\Temp\\ipykernel_19684\\3116213279.py:1: DtypeWarning: Columns (2,13,14,15,29,32,48,53,55,56,57,58,62,63,64) have mixed types. Specify dtype option on import or set low_memory=False.\n",
      "  df_qcontcust_2009_2019 = pd.read_csv(\"C:\\\\Users\\\\medasud\\\\Downloads\\\\2013-UKDA-7380-tab\\\\tab\\\\qcontcust_2009_2019.tab\", delimiter='\\t')\n",
      "C:\\Users\\medasud\\AppData\\Local\\Temp\\ipykernel_19684\\3116213279.py:15: DtypeWarning: Columns (2) have mixed types. Specify dtype option on import or set low_memory=False.\n",
      "  df_qreg_2013 = pd.read_csv(\"C:\\\\Users\\\\medasud\\\\Downloads\\\\2013-UKDA-7380-tab\\\\tab\\\\qreg_2013.tab\", delimiter='\\t')\n",
      "C:\\Users\\medasud\\AppData\\Local\\Temp\\ipykernel_19684\\3116213279.py:17: DtypeWarning: Columns (3) have mixed types. Specify dtype option on import or set low_memory=False.\n",
      "  df_airmiles_2021 = pd.read_csv(\"C:\\\\Users\\\\medasud\\\\Downloads\\\\2021-UKDA-9040-tab\\\\tab\\\\airmiles2021.tab\", delimiter='\\t')\n"
     ]
    }
   ],
   "source": [
    "df_qcontcust_2009_2019 = pd.read_csv(\"C:\\\\Users\\\\medasud\\\\Downloads\\\\2013-UKDA-7380-tab\\\\tab\\\\qcontcust_2009_2019.tab\", delimiter='\\t')\n",
    "\n",
    "df_qcontcust_2009 = df_qcontcust_2009_2019[df_qcontcust_2009_2019['Year'] == 2009]\n",
    "df_qcontcust_2010 = df_qcontcust_2009_2019[df_qcontcust_2009_2019['Year'] == 2010]\n",
    "df_qcontcust_2011 = df_qcontcust_2009_2019[df_qcontcust_2009_2019['Year'] == 2011]\n",
    "df_qcontcust_2012 = df_qcontcust_2009_2019[df_qcontcust_2009_2019['Year'] == 2012]\n",
    "df_qcontcust_2013 = df_qcontcust_2009_2019[df_qcontcust_2009_2019['Year'] == 2013]\n",
    "df_qcontcust_2014 = df_qcontcust_2009_2019[df_qcontcust_2009_2019['Year'] == 2014]\n",
    "df_qcontcust_2015 = df_qcontcust_2009_2019[df_qcontcust_2009_2019['Year'] == 2015]\n",
    "df_qcontcust_2016 = df_qcontcust_2009_2019[df_qcontcust_2009_2019['Year'] == 2016]\n",
    "df_qcontcust_2017 = df_qcontcust_2009_2019[df_qcontcust_2009_2019['Year'] == 2017]\n",
    "df_qcontcust_2018 = df_qcontcust_2009_2019[df_qcontcust_2009_2019['Year'] == 2018]\n",
    "df_qcontcust_2019 = df_qcontcust_2009_2019[df_qcontcust_2009_2019['Year'] == 2019]\n",
    "\n",
    "df_qreg_2013 = pd.read_csv(\"C:\\\\Users\\\\medasud\\\\Downloads\\\\2013-UKDA-7380-tab\\\\tab\\\\qreg_2013.tab\", delimiter='\\t')\n",
    "\n",
    "df_airmiles_2021 = pd.read_csv(\"C:\\\\Users\\\\medasud\\\\Downloads\\\\2021-UKDA-9040-tab\\\\tab\\\\airmiles2021.tab\", delimiter='\\t')\n",
    "#df_alcohol_2021 = pd.read_csv(\"C:\\\\Users\\\\medasud\\\\Downloads\\\\2021-UKDA-9040-tab\\\\tab\\\\alcohol_2021.tab\", delimiter='\\t')\n",
    "df_qreg_2021 = pd.read_csv(\"C:\\\\Users\\\\medasud\\\\Downloads\\\\2021-UKDA-9040-tab\\\\tab\\\\qreg_2021.tab\", delimiter='\\t')\n",
    "#df_qcontcust_2021 = pd.read_csv(\"C:\\\\Users\\\\medasud\\\\Downloads\\\\2021-UKDA-9040-tab\\\\tab\\\\qcontcust2021.tab\", delimiter='\\t')\n",
    "\n",
    "df_airmiles_2020 = pd.read_csv(\"C:\\\\Users\\\\medasud\\\\Downloads\\\\2020-UKDA-8661-tab\\\\tab\\\\airmiles_q12020.tab\", delimiter='\\t')\n",
    "#df_alcohol_2020 = pd.read_csv(\"C:\\\\Users\\\\medasud\\\\Downloads\\\\2020-UKDA-8661-tab\\\\tab\\\\alcohol_q12020.tab\", delimiter='\\t')\n",
    "df_qreg_2020 = pd.read_csv(\"C:\\\\Users\\\\medasud\\\\Downloads\\\\2020-UKDA-8661-tab\\\\tab\\\\qreg_q12020.tab\", delimiter='\\t')\n",
    "# df_qcontcust_2020 = pd.read_csv(\"C:\\\\Users\\\\medasud\\\\Downloads\\\\2020-UKDA-8661-tab\\\\tab\\\\qcontcust_q12020.tab\", delimiter='\\t')\n"
   ]
  },
  {
   "cell_type": "code",
   "execution_count": null,
   "metadata": {},
   "outputs": [],
   "source": [
    "flow_dict = {\n",
    "    1.0: \"Air Departure Foreign\",\n",
    "    2.0: \"Air Departure UK\",\n",
    "    3.0: \"Air Arrival Foreign\",\n",
    "    4.0: \"Air Arrival UK\",\n",
    "    5.0: \"Sea Departure Foreign\",\n",
    "    6.0: \"Sea Departure UK\",\n",
    "    7.0: \"Sea Arrival Foreign\",\n",
    "    8.0: \"Sea Arrival UK\"\n",
    "}\n",
    "df_qcontcust_2013['Flow_Label'] = df_qcontcust_2013['Flow'].replace(flow_dict)"
   ]
  }
 ],
 "metadata": {
  "kernelspec": {
   "display_name": "base",
   "language": "python",
   "name": "python3"
  },
  "language_info": {
   "codemirror_mode": {
    "name": "ipython",
    "version": 3
   },
   "file_extension": ".py",
   "mimetype": "text/x-python",
   "name": "python",
   "nbconvert_exporter": "python",
   "pygments_lexer": "ipython3",
   "version": "3.11.5"
  }
 },
 "nbformat": 4,
 "nbformat_minor": 2
}
